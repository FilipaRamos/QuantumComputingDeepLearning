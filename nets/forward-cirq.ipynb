{
 "cells": [
  {
   "cell_type": "code",
   "execution_count": 1,
   "id": "18d36e0f-9319-4ebc-88e7-8894a76574d7",
   "metadata": {},
   "outputs": [],
   "source": [
    "import tensorflow as tf\n",
    "import tensorflow_quantum as tfq\n",
    "\n",
    "import cirq\n",
    "import sympy\n",
    "import numpy as np\n",
    "import seaborn as sns\n",
    "import collections\n",
    "\n",
    "# visualization tools\n",
    "%matplotlib inline\n",
    "import matplotlib.pyplot as plt\n",
    "from cirq.contrib.svg import SVGCircuit"
   ]
  },
  {
   "cell_type": "code",
   "execution_count": 2,
   "id": "c3e9081f-104b-40f9-bbf8-e15b6cd86f92",
   "metadata": {},
   "outputs": [],
   "source": [
    "def prepare_mnist(plot=False, c1=3, c2=6):\n",
    "    (x_train, y_train), (x_test, y_test) = tf.keras.datasets.mnist.load_data()\n",
    "\n",
    "    # Normalize images to [0, 1]\n",
    "    x_train, x_test = x_train[..., np.newaxis]/255.0, x_test[..., np.newaxis]/255.0\n",
    "\n",
    "    print('Number of original training examples:', len(x_train))\n",
    "    print('Number of original test examples:', len(x_test))\n",
    "    \n",
    "    # Filter labels c1 and c2\n",
    "    x_train, y_train = filter_labels(x_train, y_train, c1, c2)\n",
    "    x_test, y_test = filter_labels(x_test, y_test, c1, c2)\n",
    "\n",
    "    print('Number of filtered training examples:', len(x_train))\n",
    "    print('Number of filtered test examples:', len(x_test))\n",
    "    \n",
    "    if plot:\n",
    "        plt.imshow(x_train[0, :, :, 0])\n",
    "        plt.colorbar()\n",
    "    \n",
    "    return x_train, y_train, x_test, y_test"
   ]
  },
  {
   "cell_type": "code",
   "execution_count": 3,
   "id": "7de0b148-8446-4fbc-bf37-a02ccb771e1c",
   "metadata": {},
   "outputs": [],
   "source": [
    "def prepare_fashion_mnist(plot=False, c1=0, c2=3):\n",
    "    (x_train, y_train), (x_test, y_test) = tf.keras.datasets.fashion_mnist.load_data()\n",
    "    \n",
    "    # Normalize images to [0, 1]\n",
    "    x_train, x_test = x_train / 255.0, x_test / 255.0\n",
    "    \n",
    "    print(\"Number of original training examples:\", len(x_train))\n",
    "    print(\"Number of original test examples:\", len(x_test))\n",
    "    \n",
    "    # Filter labels c1 and c2\n",
    "    x_train, y_train = filter_labels(x_train, y_train, 0, 3)\n",
    "    x_test, y_test = filter_labels(x_test, y_test, 0, 3)\n",
    "    \n",
    "    print(\"Number of filtered training examples:\", len(x_train))\n",
    "    print(\"Number of filtered training examples:\", len(x_test))\n",
    "    \n",
    "    if plot:\n",
    "        plt.imshow(x_train[0, :, :])\n",
    "        plt.colorbar()\n",
    "        \n",
    "    return x_train, y_train, x_test, y_test"
   ]
  },
  {
   "cell_type": "code",
   "execution_count": 4,
   "id": "4996c11f-6e29-44c3-9ef5-88f5b0a0f988",
   "metadata": {},
   "outputs": [],
   "source": [
    "def prepare_olivetti(plot=False, c1=1, c2=3):\n",
    "    # Olivetti images already come normalized\n",
    "    import os\n",
    "    path = '../datasets/olivetti'\n",
    "    data = np.load(os.path.join(path, 'olivetti_faces.npy'))\n",
    "    labels = np.load(os.path.join(path, 'olivetti_faces_target.npy'))\n",
    "        \n",
    "    from sklearn.model_selection import train_test_split\n",
    "    x_train, x_test, y_train, y_test = train_test_split(data, labels, test_size=0.2, stratify=labels, random_state=0)\n",
    "    \n",
    "    # Normalize images to [0, 1]\n",
    "    x_train, x_test = x_train[..., np.newaxis], x_test[..., np.newaxis]\n",
    "    \n",
    "    print('Number of original training examples:', len(x_train))\n",
    "    print('Number of original test examples:', len(x_test))\n",
    "    \n",
    "    # Filter labels c1 and c2\n",
    "    x_train, y_train = filter_labels(x_train, y_train, c1, c2)\n",
    "    x_test, y_test = filter_labels(x_test, y_test, c1, c2)\n",
    "\n",
    "    print('Number of filtered training examples:', len(x_train))\n",
    "    print('Number of filtered test examples:', len(x_test))\n",
    "    \n",
    "    # Transform labels into 0 or 1 classes\n",
    "    #y_train = y_train.astype(int)\n",
    "    #y_test = y_test.astype(int)\n",
    "    \n",
    "    print(x_train.shape)\n",
    "    if plot:\n",
    "        # Show the first image\n",
    "        plt.imshow(x_train[0, :, :, 0])\n",
    "        plt.colorbar()\n",
    "        \n",
    "    return x_train, y_train, x_test, y_test"
   ]
  },
  {
   "cell_type": "code",
   "execution_count": 5,
   "id": "b27d4b0f-5564-4eb3-bd9d-bd01c7a1ccf0",
   "metadata": {},
   "outputs": [],
   "source": [
    "def filter_labels(x, y, c1, c2):\n",
    "    keep = (y == c1) | (y == c2)\n",
    "    x, y = x[keep], y[keep]\n",
    "    y = y == c1\n",
    "    return x, y"
   ]
  },
  {
   "cell_type": "code",
   "execution_count": 6,
   "id": "2eb3feb1-0fdc-4135-8148-80ee2f3928a6",
   "metadata": {},
   "outputs": [],
   "source": [
    "def truncate_pca(x_train, x_test, n_components=10):\n",
    "    \"\"\"Perform PCA on image dataset keeping the top `n_components` components.\"\"\"\n",
    "    n_points_train = tf.gather(tf.shape(x_train), 0)\n",
    "    n_points_test = tf.gather(tf.shape(x_test), 0)\n",
    "\n",
    "    # Flatten to 1D\n",
    "    x_train = tf.reshape(x_train, [n_points_train, -1])\n",
    "    x_test = tf.reshape(x_test, [n_points_test, -1])\n",
    "\n",
    "    # Normalize.\n",
    "    feature_mean = tf.reduce_mean(x_train, axis=0)\n",
    "    x_train_normalized = x_train - feature_mean\n",
    "    x_test_normalized = x_test - feature_mean\n",
    "\n",
    "    # Truncate.\n",
    "    e_values, e_vectors = tf.linalg.eigh(\n",
    "      tf.einsum('ji,jk->ik', x_train_normalized, x_train_normalized))\n",
    "    \n",
    "    return tf.einsum('ij,jk->ik', x_train_normalized, e_vectors[:,-n_components:]), \\\n",
    "    tf.einsum('ij,jk->ik', x_test_normalized, e_vectors[:, -n_components:])"
   ]
  },
  {
   "cell_type": "code",
   "execution_count": 7,
   "id": "16bf7219-c37c-4212-a577-89a5e5501105",
   "metadata": {},
   "outputs": [],
   "source": [
    "def prepare_data_pca(x_train, y_train, x_test, y_test, n_components=10):\n",
    "    # Resize with PCA\n",
    "    x_train, x_test = truncate_pca(x_train, x_test, n_components=n_components)\n",
    "    print(x_train.shape)\n",
    "    \n",
    "    train_split = 1000\n",
    "    test_split = 200\n",
    "    \n",
    "    # Filter number of samples\n",
    "    x_train, x_test = x_train[:train_split], x_test[:test_split]\n",
    "    y_train, y_test = y_train[:train_split], y_test[:test_split]\n",
    "    \n",
    "    print(\"Prepared number of training examples:\", len(x_train))\n",
    "    print(\"Prepared number of test examples:\", len(x_test))\n",
    "\n",
    "    THRESHOLD = 0.5\n",
    "\n",
    "    x_train_bin = np.array(x_train > THRESHOLD, dtype=np.float32)\n",
    "    x_test_bin = np.array(x_test > THRESHOLD, dtype=np.float32)\n",
    "    \n",
    "    return x_train_bin, x_test_bin, x_train, y_train, x_test, y_test"
   ]
  },
  {
   "cell_type": "code",
   "execution_count": 8,
   "id": "97cdeb2b-9bf0-47af-ac31-187fa3c4b912",
   "metadata": {},
   "outputs": [],
   "source": [
    "def prepare_data(x_train, y_train, x_test, y_test, plot=False, contradicting=False):\n",
    "    x_train = tf.image.resize(x_train, (4,4)).numpy()\n",
    "    x_test = tf.image.resize(x_test, (4,4)).numpy()\n",
    "    print(x_train.shape)\n",
    "    \n",
    "    if plot:\n",
    "        plt.imshow(x_train[0,:,:,0], vmin=0, vmax=1)\n",
    "        plt.colorbar()\n",
    "        \n",
    "    if contradicting:\n",
    "        x_train, y_train = remove_contradicting(x_train, y_train)\n",
    "        \n",
    "    THRESHOLD = 0.5\n",
    "\n",
    "    x_train_bin = np.array(x_train > THRESHOLD, dtype=np.float32)\n",
    "    x_test_bin = np.array(x_test > THRESHOLD, dtype=np.float32)\n",
    "    \n",
    "    return x_train_bin, x_test_bin, x_train, y_train, x_test, y_test"
   ]
  },
  {
   "cell_type": "markdown",
   "id": "a2673bf7-1873-4118-aa35-3e874d8f84bb",
   "metadata": {},
   "source": [
    "#### Remove contrary examples according to Farhi et al."
   ]
  },
  {
   "cell_type": "code",
   "execution_count": 9,
   "id": "d64a3dbc-29ff-4920-8657-238303db1c7f",
   "metadata": {},
   "outputs": [],
   "source": [
    "def remove_contradicting(xs, ys):\n",
    "    mapping = collections.defaultdict(set)\n",
    "    orig_x = {}\n",
    "    # Determine the set of labels for each unique image:\n",
    "    for x,y in zip(xs,ys):\n",
    "       orig_x[tuple(x.flatten())] = x\n",
    "       mapping[tuple(x.flatten())].add(y)\n",
    "\n",
    "    new_x = []\n",
    "    new_y = []\n",
    "    for flatten_x in mapping:\n",
    "      x = orig_x[flatten_x]\n",
    "      labels = mapping[flatten_x]\n",
    "      if len(labels) == 1:\n",
    "          new_x.append(x)\n",
    "          new_y.append(next(iter(labels)))\n",
    "      else:\n",
    "          # Throw out images that match more than one label.\n",
    "          pass\n",
    "\n",
    "    num_uniq_c1 = sum(1 for value in mapping.values() if len(value) == 1 and True in value)\n",
    "    num_uniq_c2 = sum(1 for value in mapping.values() if len(value) == 1 and False in value)\n",
    "    num_uniq_both = sum(1 for value in mapping.values() if len(value) == 2)\n",
    "\n",
    "    print(\"Number of unique images:\", len(mapping.values()))\n",
    "    print(\"Number of unique c1: \", num_uniq_c1)\n",
    "    print(\"Number of unique c2: \", num_uniq_c2)\n",
    "    print(\"Number of unique contradicting labels: \", num_uniq_both)\n",
    "    print()\n",
    "    print(\"Initial number of images: \", len(xs))\n",
    "    print(\"Remaining non-contradicting unique images: \", len(new_x))\n",
    "\n",
    "    return np.array(new_x), np.array(new_y)"
   ]
  },
  {
   "cell_type": "markdown",
   "id": "77145a37-66d0-40d5-b695-9c4991d5b801",
   "metadata": {},
   "source": [
    "#### Prepares splits from several datasets. Only the cell of the desirable dataset should be run.\n",
    "\n",
    "> **NOTE**: Keep in mind that this particular circuit has been proven to be effective when solving for MNIST numbers. Expect low accuracy on the other datasets. These samples were tested simply for the scope of the investigation."
   ]
  },
  {
   "cell_type": "code",
   "execution_count": null,
   "id": "5d6bf1ce-9f6c-4e39-a1c4-2c7c0c11a6b1",
   "metadata": {},
   "outputs": [],
   "source": [
    "# Olivetti\n",
    "x_train_olivetti, y_train_olivetti, x_test_olivetti, y_test_olivetti = prepare_olivetti(plot=True)\n",
    "x_train_bin, x_test_bin, x_train, y_train, x_test, y_test = prepare_data(x_train_olivetti, y_train_olivetti, x_test_olivetti, y_test_olivetti, plot=True)"
   ]
  },
  {
   "cell_type": "code",
   "execution_count": 10,
   "id": "9070930e-92be-490f-bcb2-ce730589972c",
   "metadata": {},
   "outputs": [
    {
     "name": "stdout",
     "output_type": "stream",
     "text": [
      "Number of original training examples: 60000\n",
      "Number of original test examples: 10000\n",
      "Number of filtered training examples: 12049\n",
      "Number of filtered test examples: 1968\n",
      "(12049, 4, 4, 1)\n",
      "Number of unique images: 10387\n",
      "Number of unique c1:  4912\n",
      "Number of unique c2:  5426\n",
      "Number of unique contradicting labels:  49\n",
      "\n",
      "Initial number of images:  12049\n",
      "Remaining non-contradicting unique images:  10338\n"
     ]
    },
    {
     "data": {
      "image/png": "[encoded data removed]",
      "text/plain": [
       "<Figure size 432x288 with 3 Axes>"
      ]
     },
     "metadata": {
      "needs_background": "light"
     },
     "output_type": "display_data"
    }
   ],
   "source": [
    "# Mnist\n",
    "x_train_mnist, y_train_mnist, x_test_mnist, y_test_mnist = prepare_mnist(plot=True)\n",
    "x_train_bin, x_test_bin, x_train, y_train, x_test, y_test = prepare_data(x_train_mnist, y_train_mnist, x_test_mnist, y_test_mnist, plot=True, contradicting=True)"
   ]
  },
  {
   "cell_type": "code",
   "execution_count": null,
   "id": "193bbd0f-3451-4ddb-9fd2-3f10570d457e",
   "metadata": {},
   "outputs": [],
   "source": [
    "# Fashion Mnist\n",
    "x_train_mnist, y_train_mnist, x_test_mnist, y_test_mnist = prepare_fashion_mnist(plot=True)\n",
    "x_train_bin, x_test_bin, x_train, y_train, x_test, y_test = prepare_data_pca(x_train_mnist, y_train_mnist, x_test_mnist, y_test_mnist)"
   ]
  },
  {
   "cell_type": "code",
   "execution_count": 11,
   "id": "50aba604-497b-4748-a658-0ed998754662",
   "metadata": {},
   "outputs": [],
   "source": [
    "def convert_to_circuit_flat(flat_image):\n",
    "    \"\"\"Encode pca flattened image into quantum datapoint\"\"\"\n",
    "    qubits = cirq.GridQubit.rect(1, len(flat_image))\n",
    "    circuit = cirq.Circuit()\n",
    "    for i, value in enumerate(flat_image):\n",
    "        if value:\n",
    "            circuit.append(cirq.X(qubits[i]))\n",
    "    return circuit"
   ]
  },
  {
   "cell_type": "code",
   "execution_count": 12,
   "id": "4189718c-e60c-43bf-99a7-e2c7ec53acbe",
   "metadata": {},
   "outputs": [],
   "source": [
    "def convert_to_circuit_2d(image):\n",
    "    \"\"\"Encode truncated classical image into quantum datapoint\"\"\"\n",
    "    values = np.ndarray.flatten(image)\n",
    "    qubits = cirq.GridQubit.rect(4, 4)\n",
    "    circuit = cirq.Circuit()\n",
    "    for i, value in enumerate(values):\n",
    "        if value:\n",
    "            circuit.append(cirq.X(qubits[i]))\n",
    "    return circuit"
   ]
  },
  {
   "cell_type": "code",
   "execution_count": 13,
   "id": "9c14db30-d4d1-41e4-93a7-e52571b004e9",
   "metadata": {},
   "outputs": [],
   "source": [
    "def circ(x_train_bin, x_test_bin):\n",
    "    if len(x_train_bin.shape) <= 2:\n",
    "        x_train_cir = [convert_to_circuit_flat(x) for x in x_train_bin]\n",
    "        x_test_cir = [convert_to_circuit_flat(x) for x in x_test_bin]\n",
    "        bin_img = x_train_bin[0,0]\n",
    "    else:\n",
    "        x_train_cir = [convert_to_circuit_2d(x) for x in x_train_bin]\n",
    "        x_test_cir = [convert_to_circuit_2d(x) for x in x_test_bin]\n",
    "        bin_img = x_train_bin[0,:,:,0]\n",
    "\n",
    "    indices = np.array(np.where(bin_img)).T\n",
    "\n",
    "    x_train_tfcirc = tfq.convert_to_tensor(x_train_cir)\n",
    "    x_test_tfcirc = tfq.convert_to_tensor(x_test_cir)\n",
    "\n",
    "    return x_train_cir, x_test_cir, x_train_tfcirc, x_test_tfcirc"
   ]
  },
  {
   "cell_type": "code",
   "execution_count": 14,
   "id": "824e01fe-8bb7-46b0-8ad9-a3b38fa77a18",
   "metadata": {},
   "outputs": [
    {
     "name": "stderr",
     "output_type": "stream",
     "text": [
      "findfont: Font family ['Arial'] not found. Falling back to DejaVu Sans.\n"
     ]
    },
    {
     "data": {
      "image/svg+xml": [
       "<svg xmlns=\"http://www.w3.org/2000/svg\" width=\"169.517734375\" height=\"100.0\"><line x1=\"34.7588671875\" x2=\"139.517734375\" y1=\"25.0\" y2=\"25.0\" stroke=\"#1967d2\" stroke-width=\"1\" /><line x1=\"34.7588671875\" x2=\"139.517734375\" y1=\"75.0\" y2=\"75.0\" stroke=\"#1967d2\" stroke-width=\"1\" /><rect x=\"10.0\" y=\"5.0\" width=\"49.517734375\" height=\"40\" stroke=\"black\" fill=\"white\" stroke-width=\"0\" /><text x=\"34.7588671875\" y=\"25.0\" dominant-baseline=\"middle\" text-anchor=\"middle\" font-size=\"14px\" font-family=\"Arial\">(2, 2): </text><rect x=\"10.0\" y=\"55.0\" width=\"49.517734375\" height=\"40\" stroke=\"black\" fill=\"white\" stroke-width=\"0\" /><text x=\"34.7588671875\" y=\"75.0\" dominant-baseline=\"middle\" text-anchor=\"middle\" font-size=\"14px\" font-family=\"Arial\">(3, 1): </text><rect x=\"79.517734375\" y=\"5.0\" width=\"40\" height=\"40\" stroke=\"black\" fill=\"white\" stroke-width=\"1\" /><text x=\"99.517734375\" y=\"25.0\" dominant-baseline=\"middle\" text-anchor=\"middle\" font-size=\"18px\" font-family=\"Arial\">X</text><rect x=\"79.517734375\" y=\"55.0\" width=\"40\" height=\"40\" stroke=\"black\" fill=\"white\" stroke-width=\"1\" /><text x=\"99.517734375\" y=\"75.0\" dominant-baseline=\"middle\" text-anchor=\"middle\" font-size=\"18px\" font-family=\"Arial\">X</text></svg>"
      ],
      "text/plain": [
       "<cirq.contrib.svg.svg.SVGCircuit at 0x7f5ca4023a00>"
      ]
     },
     "execution_count": 14,
     "metadata": {},
     "output_type": "execute_result"
    }
   ],
   "source": [
    "x_train_cir, x_test_cir, x_train_tfcirc, x_test_tfcirc = circ(x_train_bin, x_test_bin)\n",
    "SVGCircuit(x_train_cir[0])"
   ]
  },
  {
   "cell_type": "markdown",
   "id": "fb079620-d2be-4f98-b0eb-bf03795a660d",
   "metadata": {},
   "source": [
    "#### Model"
   ]
  },
  {
   "cell_type": "code",
   "execution_count": 15,
   "id": "3a1fedbd-3b98-4dda-a427-65e59058b089",
   "metadata": {},
   "outputs": [],
   "source": [
    "class CircuitLayerBuilder():\n",
    "    def __init__(self, data_qubits, readout):\n",
    "        self.data_qubits = data_qubits\n",
    "        self.readout = readout\n",
    "        \n",
    "    def add_layer(self, circuit, gate, prefix):\n",
    "        for i, qubit in enumerate(self.data_qubits):\n",
    "            symbol = sympy.Symbol(prefix + '-' + str(i))\n",
    "            circuit.append(gate(qubit, self.readout)**symbol)"
   ]
  },
  {
   "cell_type": "code",
   "execution_count": 16,
   "id": "cc66ef9c-e5fd-40c2-b564-9a437938e747",
   "metadata": {},
   "outputs": [
    {
     "data": {
      "image/svg+xml": [
       "<svg xmlns=\"http://www.w3.org/2000/svg\" width=\"522.59953125\" height=\"250.0\"><line x1=\"39.810625\" x2=\"492.59953125000004\" y1=\"25.0\" y2=\"25.0\" stroke=\"#1967d2\" stroke-width=\"1\" /><line x1=\"39.810625\" x2=\"492.59953125000004\" y1=\"75.0\" y2=\"75.0\" stroke=\"#1967d2\" stroke-width=\"1\" /><line x1=\"39.810625\" x2=\"492.59953125000004\" y1=\"125.0\" y2=\"125.0\" stroke=\"#1967d2\" stroke-width=\"1\" /><line x1=\"39.810625\" x2=\"492.59953125000004\" y1=\"175.0\" y2=\"175.0\" stroke=\"#1967d2\" stroke-width=\"1\" /><line x1=\"39.810625\" x2=\"492.59953125000004\" y1=\"225.0\" y2=\"225.0\" stroke=\"#1967d2\" stroke-width=\"1\" /><line x1=\"129.99353515625\" x2=\"129.99353515625\" y1=\"25.0\" y2=\"75.0\" stroke=\"black\" stroke-width=\"3\" /><line x1=\"230.73810546875004\" x2=\"230.73810546875004\" y1=\"25.0\" y2=\"125.0\" stroke=\"black\" stroke-width=\"3\" /><line x1=\"331.48267578125007\" x2=\"331.48267578125007\" y1=\"25.0\" y2=\"175.0\" stroke=\"black\" stroke-width=\"3\" /><line x1=\"432.22724609375007\" x2=\"432.22724609375007\" y1=\"25.0\" y2=\"225.0\" stroke=\"black\" stroke-width=\"3\" /><rect x=\"10.0\" y=\"5.0\" width=\"59.62125\" height=\"40\" stroke=\"black\" fill=\"white\" stroke-width=\"0\" /><text x=\"39.810625\" y=\"25.0\" dominant-baseline=\"middle\" text-anchor=\"middle\" font-size=\"14px\" font-family=\"Arial\">(-1, -1): </text><rect x=\"10.0\" y=\"55.0\" width=\"59.62125\" height=\"40\" stroke=\"black\" fill=\"white\" stroke-width=\"0\" /><text x=\"39.810625\" y=\"75.0\" dominant-baseline=\"middle\" text-anchor=\"middle\" font-size=\"14px\" font-family=\"Arial\">(0, 0): </text><rect x=\"10.0\" y=\"105.0\" width=\"59.62125\" height=\"40\" stroke=\"black\" fill=\"white\" stroke-width=\"0\" /><text x=\"39.810625\" y=\"125.0\" dominant-baseline=\"middle\" text-anchor=\"middle\" font-size=\"14px\" font-family=\"Arial\">(1, 0): </text><rect x=\"10.0\" y=\"155.0\" width=\"59.62125\" height=\"40\" stroke=\"black\" fill=\"white\" stroke-width=\"0\" /><text x=\"39.810625\" y=\"175.0\" dominant-baseline=\"middle\" text-anchor=\"middle\" font-size=\"14px\" font-family=\"Arial\">(2, 0): </text><rect x=\"10.0\" y=\"205.0\" width=\"59.62125\" height=\"40\" stroke=\"black\" fill=\"white\" stroke-width=\"0\" /><text x=\"39.810625\" y=\"225.0\" dominant-baseline=\"middle\" text-anchor=\"middle\" font-size=\"14px\" font-family=\"Arial\">(3, 0): </text><rect x=\"89.62125\" y=\"55.0\" width=\"80.74457031250002\" height=\"40\" stroke=\"black\" fill=\"white\" stroke-width=\"1\" /><text x=\"129.99353515625\" y=\"75.0\" dominant-baseline=\"middle\" text-anchor=\"middle\" font-size=\"14px\" font-family=\"Arial\">XX^(xx-0)</text><rect x=\"89.62125\" y=\"5.0\" width=\"80.74457031250002\" height=\"40\" stroke=\"black\" fill=\"white\" stroke-width=\"1\" /><text x=\"129.99353515625\" y=\"25.0\" dominant-baseline=\"middle\" text-anchor=\"middle\" font-size=\"14px\" font-family=\"Arial\">XX</text><rect x=\"190.36582031250003\" y=\"105.0\" width=\"80.74457031250002\" height=\"40\" stroke=\"black\" fill=\"white\" stroke-width=\"1\" /><text x=\"230.73810546875004\" y=\"125.0\" dominant-baseline=\"middle\" text-anchor=\"middle\" font-size=\"14px\" font-family=\"Arial\">XX^(xx-1)</text><rect x=\"190.36582031250003\" y=\"5.0\" width=\"80.74457031250002\" height=\"40\" stroke=\"black\" fill=\"white\" stroke-width=\"1\" /><text x=\"230.73810546875004\" y=\"25.0\" dominant-baseline=\"middle\" text-anchor=\"middle\" font-size=\"14px\" font-family=\"Arial\">XX</text><rect x=\"291.11039062500004\" y=\"155.0\" width=\"80.74457031250002\" height=\"40\" stroke=\"black\" fill=\"white\" stroke-width=\"1\" /><text x=\"331.48267578125007\" y=\"175.0\" dominant-baseline=\"middle\" text-anchor=\"middle\" font-size=\"14px\" font-family=\"Arial\">XX^(xx-2)</text><rect x=\"291.11039062500004\" y=\"5.0\" width=\"80.74457031250002\" height=\"40\" stroke=\"black\" fill=\"white\" stroke-width=\"1\" /><text x=\"331.48267578125007\" y=\"25.0\" dominant-baseline=\"middle\" text-anchor=\"middle\" font-size=\"14px\" font-family=\"Arial\">XX</text><rect x=\"391.85496093750004\" y=\"205.0\" width=\"80.74457031250002\" height=\"40\" stroke=\"black\" fill=\"white\" stroke-width=\"1\" /><text x=\"432.22724609375007\" y=\"225.0\" dominant-baseline=\"middle\" text-anchor=\"middle\" font-size=\"14px\" font-family=\"Arial\">XX^(xx-3)</text><rect x=\"391.85496093750004\" y=\"5.0\" width=\"80.74457031250002\" height=\"40\" stroke=\"black\" fill=\"white\" stroke-width=\"1\" /><text x=\"432.22724609375007\" y=\"25.0\" dominant-baseline=\"middle\" text-anchor=\"middle\" font-size=\"14px\" font-family=\"Arial\">XX</text></svg>"
      ],
      "text/plain": [
       "<cirq.contrib.svg.svg.SVGCircuit at 0x7f5c713c9a90>"
      ]
     },
     "execution_count": 16,
     "metadata": {},
     "output_type": "execute_result"
    }
   ],
   "source": [
    "demo_builder = CircuitLayerBuilder(data_qubits = cirq.GridQubit.rect(4, 1),\n",
    "                                readout = cirq.GridQubit(-1, -1))\n",
    "circuit = cirq.Circuit()\n",
    "demo_builder.add_layer(circuit, gate=cirq.XX, prefix='xx')\n",
    "SVGCircuit(circuit)"
   ]
  },
  {
   "cell_type": "code",
   "execution_count": 17,
   "id": "657748b5-23ba-4237-9292-b33c123007b0",
   "metadata": {},
   "outputs": [],
   "source": [
    "def create_quantum_model():\n",
    "    \"\"\"Create QNN model circuit and readout\"\"\"\n",
    "    data_qubits = cirq.GridQubit.rect(4, 4) # 4x4 grid\n",
    "    readout = cirq.GridQubit(-1, -1) # one qubit at (-1, -1)\n",
    "    circuit = cirq.Circuit()\n",
    "    \n",
    "    # Prepare the readout qubit\n",
    "    circuit.append(cirq.X(readout))\n",
    "    circuit.append(cirq.H(readout))\n",
    "    \n",
    "    builder = CircuitLayerBuilder(\n",
    "        data_qubits=data_qubits,\n",
    "        readout=readout)\n",
    "    \n",
    "    # Add layers\n",
    "    builder.add_layer(circuit, cirq.XX, \"xx1\")\n",
    "    builder.add_layer(circuit, cirq.ZZ, \"zz1\")\n",
    "    \n",
    "    # Readout qubit\n",
    "    circuit.append(cirq.H(readout))\n",
    "    \n",
    "    return circuit, cirq.Z(readout)"
   ]
  },
  {
   "cell_type": "code",
   "execution_count": 18,
   "id": "a7a33856-cd24-442f-9b58-c8bf43a696cf",
   "metadata": {},
   "outputs": [],
   "source": [
    "model_circuit, model_readout = create_quantum_model()"
   ]
  },
  {
   "cell_type": "code",
   "execution_count": 19,
   "id": "2ae678b2-1af2-40ed-9e51-3e204a26ea89",
   "metadata": {},
   "outputs": [],
   "source": [
    "model = tf.keras.Sequential([\n",
    "    # The input is the data-circuit\n",
    "    tf.keras.layers.Input(shape=(), dtype=tf.string),\n",
    "    # PQC layer returns the expected value of the readout gate, range [-1, 1]\n",
    "    tfq.layers.PQC(model_circuit, model_readout),\n",
    "])"
   ]
  },
  {
   "cell_type": "code",
   "execution_count": 20,
   "id": "b1b86ccb-36a8-4082-85ea-cfe17c80f054",
   "metadata": {},
   "outputs": [],
   "source": [
    "y_train_hinge = 2.0 * y_train - 1.0\n",
    "y_test_hinge = 2.0 * y_test - 1.0"
   ]
  },
  {
   "cell_type": "code",
   "execution_count": 21,
   "id": "15704bd4-712b-44c7-aabe-eb0a992a065e",
   "metadata": {},
   "outputs": [],
   "source": [
    "def hinge_accuracy(y_true, y_pred):\n",
    "    y_true = tf.squeeze(y_true) > 0.0\n",
    "    y_pred = tf.squeeze(y_pred) > 0.0\n",
    "    result = tf.cast(y_true == y_pred, tf.float32)\n",
    "    \n",
    "    return tf.reduce_mean(result)"
   ]
  },
  {
   "cell_type": "code",
   "execution_count": 22,
   "id": "bd30e572-3ec4-4675-a9a9-c8c38dbe4938",
   "metadata": {},
   "outputs": [],
   "source": [
    "model.compile(\n",
    "    loss=tf.keras.losses.Hinge(),\n",
    "    optimizer=tf.keras.optimizers.Adam(),\n",
    "    metrics=[hinge_accuracy])"
   ]
  },
  {
   "cell_type": "code",
   "execution_count": 23,
   "id": "c1cb4f39-c9cc-4d49-8bb5-f2052ad5f277",
   "metadata": {},
   "outputs": [
    {
     "name": "stdout",
     "output_type": "stream",
     "text": [
      "Model: \"sequential\"\n",
      "_________________________________________________________________\n",
      "Layer (type)                 Output Shape              Param #   \n",
      "=================================================================\n",
      "pqc (PQC)                    (None, 1)                 32        \n",
      "=================================================================\n",
      "Total params: 32\n",
      "Trainable params: 32\n",
      "Non-trainable params: 0\n",
      "_________________________________________________________________\n",
      "None\n"
     ]
    }
   ],
   "source": [
    "print(model.summary())"
   ]
  },
  {
   "cell_type": "code",
   "execution_count": 24,
   "id": "7a8d1580-9fff-4f05-9223-a2635f3db6a7",
   "metadata": {},
   "outputs": [],
   "source": [
    "def train(epochs, batch_size, x_train_tfcirc, y_train_hinge):\n",
    "    num_examples = len(x_train_tfcirc)\n",
    "    \n",
    "    x_train_tfcirc_sub = x_train_tfcirc[:num_examples]\n",
    "    y_train_hinge_sub = y_train_hinge[:num_examples]\n",
    "    \n",
    "    qnn_history = model.fit(\n",
    "        x_train_tfcirc_sub, y_train_hinge_sub,\n",
    "        batch_size=32,\n",
    "        epochs=epochs,\n",
    "        verbose=1,\n",
    "        validation_data=(x_test_tfcirc, y_test_hinge))\n",
    "    \n",
    "    qnn_results = model.evaluate(x_test_tfcirc, y_test)\n",
    "    return qnn_results"
   ]
  },
  {
   "cell_type": "code",
   "execution_count": 25,
   "id": "efb1636d-85bc-48bf-9afb-40ea5900d03a",
   "metadata": {},
   "outputs": [
    {
     "name": "stdout",
     "output_type": "stream",
     "text": [
      "Epoch 1/3\n",
      "324/324 [==============================] - 153s 473ms/step - loss: 0.9080 - hinge_accuracy: 0.6033 - val_loss: 0.4712 - val_hinge_accuracy: 0.7747\n",
      "Epoch 2/3\n",
      "324/324 [==============================] - 153s 472ms/step - loss: 0.4314 - hinge_accuracy: 0.8232 - val_loss: 0.3853 - val_hinge_accuracy: 0.8936\n",
      "Epoch 3/3\n",
      "324/324 [==============================] - 153s 471ms/step - loss: 0.3731 - hinge_accuracy: 0.8856 - val_loss: 0.3578 - val_hinge_accuracy: 0.8997\n",
      "62/62 [==============================] - 4s 56ms/step - loss: 0.3578 - hinge_accuracy: 0.8997\n"
     ]
    }
   ],
   "source": [
    "qnn_results = train(3, 32, x_train_tfcirc, y_train_hinge)"
   ]
  },
  {
   "cell_type": "code",
   "execution_count": 28,
   "id": "24d576a8-5e6d-4fec-8904-b57922e44062",
   "metadata": {},
   "outputs": [],
   "source": [
    "def test_display_sample(n_samples, X_orig, X, y, model, batch_size=32):\n",
    "    from PIL import Image\n",
    "    count = 0\n",
    "    fig, axes = plt.subplots(nrows=1, ncols=n_samples, figsize=(10, 3))\n",
    "\n",
    "    while count < n_samples:\n",
    "        predictions = model.predict(X[:batch_size])\n",
    "\n",
    "        pred = predictions < 0\n",
    "        elem = '2' if pred[count] else '1'\n",
    "        confidence = predictions[:, 0]\n",
    "\n",
    "        axes[count].imshow(X_orig[count], cmap='gray')\n",
    "\n",
    "        axes[count].set_xticks([])\n",
    "        axes[count].set_yticks([])\n",
    "        axes[count].set_title('Predicted {}'.format(elem))\n",
    "\n",
    "        count += 1"
   ]
  },
  {
   "cell_type": "code",
   "execution_count": 29,
   "id": "5f4f51e5-c90f-46bc-a680-0efebbb049f9",
   "metadata": {},
   "outputs": [
    {
     "data": {
      "image/png": "[encoded data removed]",
      "text/plain": [
       "<Figure size 720x216 with 8 Axes>"
      ]
     },
     "metadata": {},
     "output_type": "display_data"
    }
   ],
   "source": [
    "test_display_sample(8, x_test_mnist, x_test_tfcirc, y_test_mnist, model)"
   ]
  }
 ],
 "metadata": {
  "kernelspec": {
   "display_name": "Python 3",
   "language": "python",
   "name": "python3"
  },
  "language_info": {
   "codemirror_mode": {
    "name": "ipython",
    "version": 3
   },
   "file_extension": ".py",
   "mimetype": "text/x-python",
   "name": "python",
   "nbconvert_exporter": "python",
   "pygments_lexer": "ipython3",
   "version": "3.8.5"
  }
 },
 "nbformat": 4,
 "nbformat_minor": 5
}
